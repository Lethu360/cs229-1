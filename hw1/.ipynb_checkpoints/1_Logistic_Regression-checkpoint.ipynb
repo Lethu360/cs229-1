{
 "cells": [
  {
   "cell_type": "markdown",
   "metadata": {},
   "source": [
    "# CS229: Problem Set 1\n",
    "## Problem 1: Logistic Regression\n",
    "\n",
    "**C. Combier**\n",
    "\n",
    "This iPython Notebook provides solutions to Stanford's CS229 (Machine Learning, Fall 2017) graduate course problem set 1, taught by Andrew Ng.\n",
    "\n",
    "The problem set can be found here: [./ps1.pdf](ps1.pdf)\n",
    "\n",
    "I chose to write the solutions to the coding questions in Python, whereas the Stanford class is taught with Matlab/Octave.\n",
    "\n",
    "## Notation\n",
    "\n",
    "- $x^i$ is the $i^{th}$ feature vector\n",
    "- $y^i$ is the expected outcome for the $i^{th}$ training example\n",
    "- $m$ is the number of training examples\n",
    "- $n$ is the number of features\n",
    "\n",
    "Let's start by setting up our Python environment and importing the required libraries:"
   ]
  },
  {
   "cell_type": "code",
   "execution_count": 1,
   "metadata": {},
   "outputs": [],
   "source": [
    "%matplotlib inline\n",
    "import numpy as np # imports a fast numerical programming library\n",
    "import scipy as sp #imports stats functions, amongst other things\n",
    "import matplotlib as mpl # this actually imports matplotlib\n",
    "import matplotlib.cm as cm #allows us easy access to colormaps\n",
    "import matplotlib.pyplot as plt #sets up plotting under plt\n",
    "import pandas as pd #lets us handle data as dataframes\n",
    "\n",
    "#sets up pandas table display\n",
    "pd.set_option('display.width', 500)\n",
    "pd.set_option('display.max_columns', 100)\n",
    "pd.set_option('display.notebook_repr_html', True)\n",
    "\n",
    "import seaborn as sns #sets up styles and gives us more plotting options"
   ]
  },
  {
   "cell_type": "markdown",
   "metadata": {},
   "source": [
    "The goal of this problem is to implement Newton's method to solve a logistic regression problem. We consider the average empirical loss for logistic regression:\n",
    "\n",
    "$$\n",
    "J(\\theta) = \\frac{1}{m} \\sum_{i=1}^m \\log(1+e^{-y^i \\theta^T x^i}) = -\\frac{1}{m} \\sum_{i=1}^m \\log(h_{\\theta}(y^i x^i))\n",
    "$$\n",
    "\n",
    "### Question 1.a)\n",
    "\n",
    "Let's start by calculating the gradient of $J$:\n",
    "\n",
    "$$\n",
    "\\frac{\\partial}{\\partial \\theta_j} J(\\theta)= -\\frac{1}{m}.\\sum_{i=1}^m (1-h_{\\theta}(y^i x^i)).y^i.x_j^i\n",
    "$$\n",
    "\n",
    "The terms of the Hessian are $H_{j,k} = \\frac{\\partial^2}{\\partial \\theta_j \\partial \\theta_k} J(\\theta)$:\n",
    "\n",
    "$$\n",
    "\\begin{align*}\n",
    "H_{j,k} &= \\frac{1}{m}.\\sum_{i=1}^m h_{\\theta}(y^i x^i).(1-h_{\\theta}(y^i x^i)).(y^i.x_j^i).(y^i.x_k^i)\\\\\n",
    "&= \\frac{1}{m}.\\sum_{i=1}^m h_{\\theta}(y^i x^i).(1-h_{\\theta}(y^i x^i)).x_j^i.x_k^i\n",
    "\\end{align*}\n",
    "$$\n",
    "\n",
    "Furthermore:\n",
    "\n",
    "$$\n",
    "\\begin{align*}\n",
    "    \\sum_i \\sum_j z_i x_i x_j z_j &= \\sum_i z_i x_i \\sum_j x_j z_j \\\\\n",
    "     &= (x^T z)(x^T z) \\\\\n",
    "     &= (x^T z)^2\n",
    "\\end{align*}\n",
    "$$\n",
    "\n",
    "Now, we calculate $z^T H z$. Let $z \\in R^n$ :\n",
    "\n",
    "$$\n",
    "\\begin{align*}\n",
    "z^T H z &= \\sum_j \\sum_k \\frac{1}{m}.\\sum_{i=1}^m h_{\\theta}(y^i x^i).(1-h_{\\theta}(y^i x^i)).(y^i.x_j^i).(y^i.x_k^i).z_j. z_k \\\\\n",
    "&= \\frac{1}{m}.\\sum_{i=1}^m h_{\\theta}(y^i x^i).(1-h_{\\theta}(y^i x^i)).\\sum_j (y^i x_j^i z_j).\\sum_k (y^i x_k^i z_k) \\\\\n",
    "&= \\frac{1}{m}.\\sum_{i=1}^m h_{\\theta}(y^i x^i).(1-h_{\\theta}(y^i x^i)))(z^T y^i x^i)^2\n",
    "\\end{align*}\n",
    "$$\n",
    "\n",
    "Since $\\forall i$, $0 < h_{\\theta}(y^i x^i) < 1$ and $\\forall i$, $(z^T y^i x^i)^2 \\geq 0$, this shows that $z^T H z \\geq 0$. Since this is true $\\forall z$, this concludes that:\n",
    "\n",
    "$$\n",
    "H \\succeq\t0\n",
    "$$\n",
    "\n",
    "i.e. $H$ is semidefinite positive.\n",
    "\n",
    "\n",
    "### Question 1.b)\n",
    "\n",
    "Let's start by loading the data into two pandas DataFrames:"
   ]
  },
  {
   "cell_type": "code",
   "execution_count": 2,
   "metadata": {},
   "outputs": [
    {
     "data": {
      "text/html": [
       "<div>\n",
       "<style scoped>\n",
       "    .dataframe tbody tr th:only-of-type {\n",
       "        vertical-align: middle;\n",
       "    }\n",
       "\n",
       "    .dataframe tbody tr th {\n",
       "        vertical-align: top;\n",
       "    }\n",
       "\n",
       "    .dataframe thead th {\n",
       "        text-align: right;\n",
       "    }\n",
       "</style>\n",
       "<table border=\"1\" class=\"dataframe\">\n",
       "  <thead>\n",
       "    <tr style=\"text-align: right;\">\n",
       "      <th></th>\n",
       "      <th>x1</th>\n",
       "      <th>x2</th>\n",
       "    </tr>\n",
       "  </thead>\n",
       "  <tbody>\n",
       "    <tr>\n",
       "      <th>0</th>\n",
       "      <td>1.343250</td>\n",
       "      <td>-1.331148</td>\n",
       "    </tr>\n",
       "    <tr>\n",
       "      <th>1</th>\n",
       "      <td>1.820553</td>\n",
       "      <td>-0.634668</td>\n",
       "    </tr>\n",
       "    <tr>\n",
       "      <th>2</th>\n",
       "      <td>0.986321</td>\n",
       "      <td>-1.888576</td>\n",
       "    </tr>\n",
       "    <tr>\n",
       "      <th>3</th>\n",
       "      <td>1.944373</td>\n",
       "      <td>-1.635452</td>\n",
       "    </tr>\n",
       "    <tr>\n",
       "      <th>4</th>\n",
       "      <td>0.976734</td>\n",
       "      <td>-1.353315</td>\n",
       "    </tr>\n",
       "  </tbody>\n",
       "</table>\n",
       "</div>"
      ],
      "text/plain": [
       "         x1        x2\n",
       "0  1.343250 -1.331148\n",
       "1  1.820553 -0.634668\n",
       "2  0.986321 -1.888576\n",
       "3  1.944373 -1.635452\n",
       "4  0.976734 -1.353315"
      ]
     },
     "execution_count": 2,
     "metadata": {},
     "output_type": "execute_result"
    }
   ],
   "source": [
    "df_x = pd.read_csv(\"./data/logistic_x.txt\", sep=\"\\ +\", names=[\"x1\",\"x2\"], header=None, engine='python')\n",
    "df_y = pd.read_csv('./data/logistic_y.txt', sep='\\ +', names=[\"y\"], header=None, engine='python')\n",
    "df_y = df_y.astype(int)\n",
    "df_x.head()"
   ]
  },
  {
   "cell_type": "markdown",
   "metadata": {},
   "source": [
    "Let's get the NumPy arrays from the dataset, and add a column of 1's to $X$ to take into account the zero intercept"
   ]
  },
  {
   "cell_type": "code",
   "execution_count": 3,
   "metadata": {},
   "outputs": [],
   "source": [
    "x = np.hstack([np.ones((df_x.shape[0], 1)), df_x[[\"x1\",\"x2\"]].values])\n",
    "y = df_y[\"y\"].values"
   ]
  },
  {
   "cell_type": "markdown",
   "metadata": {},
   "source": [
    "Define our Sigmoid, Gradient, and Hessian functions:"
   ]
  },
  {
   "cell_type": "code",
   "execution_count": 4,
   "metadata": {},
   "outputs": [],
   "source": [
    "def sigmoid(x):\n",
    "    return 1/(1+np.exp(-x))\n",
    "\n",
    "def grad_l(theta, x, y):\n",
    "    z = y*x.dot(theta)\n",
    "    g = -np.mean((1-sigmoid(z))*y*x.T, axis=1)\n",
    "    return g\n",
    "\n",
    "def hess_l(theta, x, y):\n",
    "    hess = np.zeros((x.shape[1], x.shape[1]))\n",
    "    z = y*x.dot(theta)\n",
    "    for i in range(hess.shape[0]):\n",
    "        for j in range(hess.shape[0]):\n",
    "            if i <= j:\n",
    "                hess[i][j] = np.mean(sigmoid(z)*(1-sigmoid(z))*x[:,i]*x[:,j])\n",
    "                if i != j:\n",
    "                    hess[j][i] = hess[i][j] \n",
    "    return hess"
   ]
  },
  {
   "cell_type": "markdown",
   "metadata": {},
   "source": [
    "Now let's write Newton's method into a Python function. Newton's method has the following update rule:\n",
    "\n",
    "$$\n",
    "\\begin{align*}\n",
    "    \\theta := \\theta - H^{-1} \\nabla_{\\theta} J(\\theta)\n",
    "\\end{align*}\n",
    "$$"
   ]
  },
  {
   "cell_type": "code",
   "execution_count": 5,
   "metadata": {},
   "outputs": [],
   "source": [
    "def newton(theta0, x, y, G, H, eps):\n",
    "    theta = theta0\n",
    "    delta = 1\n",
    "    while delta > eps:\n",
    "        theta_prev = theta.copy()\n",
    "        theta -= np.linalg.inv(H(theta, x, y)).dot(G(theta, x, y))\n",
    "        delta = np.linalg.norm(theta-theta_prev, ord=1)\n",
    "    return theta"
   ]
  },
  {
   "cell_type": "markdown",
   "metadata": {},
   "source": [
    "We can now run Newton's method to perform logistic regression:"
   ]
  },
  {
   "cell_type": "code",
   "execution_count": 7,
   "metadata": {},
   "outputs": [
    {
     "name": "stdout",
     "output_type": "stream",
     "text": [
      "[-2.6205116   0.76037154  1.17194674]\n"
     ]
    }
   ],
   "source": [
    "# Initialize theta0\n",
    "theta0 = np.zeros(x.shape[1])\n",
    "\n",
    "# Run Newton's method\n",
    "theta_final = newton(theta0,x,y,grad_l,hess_l,1e-6)\n",
    "print(theta_final)"
   ]
  },
  {
   "cell_type": "markdown",
   "metadata": {},
   "source": [
    "### Question 1.c)\n",
    "\n",
    "Plot the data and our decision boundary:"
   ]
  },
  {
   "cell_type": "code",
   "execution_count": 8,
   "metadata": {},
   "outputs": [
    {
     "data": {
      "text/html": [
       "<div>\n",
       "<style scoped>\n",
       "    .dataframe tbody tr th:only-of-type {\n",
       "        vertical-align: middle;\n",
       "    }\n",
       "\n",
       "    .dataframe tbody tr th {\n",
       "        vertical-align: top;\n",
       "    }\n",
       "\n",
       "    .dataframe thead th {\n",
       "        text-align: right;\n",
       "    }\n",
       "</style>\n",
       "<table border=\"1\" class=\"dataframe\">\n",
       "  <thead>\n",
       "    <tr style=\"text-align: right;\">\n",
       "      <th></th>\n",
       "      <th>y</th>\n",
       "      <th>x1</th>\n",
       "      <th>x2</th>\n",
       "    </tr>\n",
       "  </thead>\n",
       "  <tbody>\n",
       "    <tr>\n",
       "      <th>0</th>\n",
       "      <td>-1</td>\n",
       "      <td>1.343250</td>\n",
       "      <td>-1.331148</td>\n",
       "    </tr>\n",
       "    <tr>\n",
       "      <th>1</th>\n",
       "      <td>-1</td>\n",
       "      <td>1.820553</td>\n",
       "      <td>-0.634668</td>\n",
       "    </tr>\n",
       "    <tr>\n",
       "      <th>2</th>\n",
       "      <td>-1</td>\n",
       "      <td>0.986321</td>\n",
       "      <td>-1.888576</td>\n",
       "    </tr>\n",
       "    <tr>\n",
       "      <th>3</th>\n",
       "      <td>-1</td>\n",
       "      <td>1.944373</td>\n",
       "      <td>-1.635452</td>\n",
       "    </tr>\n",
       "    <tr>\n",
       "      <th>4</th>\n",
       "      <td>-1</td>\n",
       "      <td>0.976734</td>\n",
       "      <td>-1.353315</td>\n",
       "    </tr>\n",
       "  </tbody>\n",
       "</table>\n",
       "</div>"
      ],
      "text/plain": [
       "   y        x1        x2\n",
       "0 -1  1.343250 -1.331148\n",
       "1 -1  1.820553 -0.634668\n",
       "2 -1  0.986321 -1.888576\n",
       "3 -1  1.944373 -1.635452\n",
       "4 -1  0.976734 -1.353315"
      ]
     },
     "execution_count": 8,
     "metadata": {},
     "output_type": "execute_result"
    }
   ],
   "source": [
    "df_x.insert(0, \"y\", df_y)\n",
    "df_x[\"y\"] = pd.to_numeric(df_x[\"y\"],downcast='signed')\n",
    "df_x.head()"
   ]
  },
  {
   "cell_type": "code",
   "execution_count": 9,
   "metadata": {
    "scrolled": true
   },
   "outputs": [
    {
     "data": {
      "image/png": "[encoded data removed]",
      "text/plain": [
       "<Figure size 432x288 with 1 Axes>"
      ]
     },
     "metadata": {
      "needs_background": "light"
     },
     "output_type": "display_data"
    }
   ],
   "source": [
    "# Generate vector to plot decision boundary\n",
    "x1_vec = np.linspace(df_x[\"x1\"].min(),df_x[\"x1\"].max(),2);\n",
    "\n",
    "# Plot raw data\n",
    "sns.scatterplot(x=\"x1\", y=\"x2\", hue=\"y\", data=df_x);\n",
    "\n",
    "# Plot decision boundary\n",
    "plt.plot(x1_vec,(-x1_vec*theta_final[1]-theta_final[0])/theta_final[2], color=\"red\");"
   ]
  },
  {
   "cell_type": "code",
   "execution_count": null,
   "metadata": {},
   "outputs": [],
   "source": []
  }
 ],
 "metadata": {
  "kernelspec": {
   "display_name": "Python 3",
   "language": "python",
   "name": "python3"
  },
  "language_info": {
   "codemirror_mode": {
    "name": "ipython",
    "version": 3
   },
   "file_extension": ".py",
   "mimetype": "text/x-python",
   "name": "python",
   "nbconvert_exporter": "python",
   "pygments_lexer": "ipython3",
   "version": "3.8.5"
  }
 },
 "nbformat": 4,
 "nbformat_minor": 2
}
